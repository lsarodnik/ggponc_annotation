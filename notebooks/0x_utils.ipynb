{
 "cells": [
  {
   "cell_type": "code",
   "execution_count": 1,
   "metadata": {},
   "outputs": [
    {
     "name": "stdout",
     "output_type": "stream",
     "text": [
      "Anzahl Dateien: 0\n",
      "Gesamtanzahl Sätze: 0\n",
      "Gesamtanzahl Tokens: 0\n"
     ]
    }
   ],
   "source": [
    "import os\n",
    "import nltk\n",
    "from nltk.tokenize import sent_tokenize, word_tokenize\n",
    "\n",
    "# Pfad zum Ordner mit den Textdateien\n",
    "folder_path = \"/Users/leon.sarodnik/Documents/GitHub/ggponc_annotation/data/ASSESS CT/txt_output\"\n",
    "\n",
    "# Zähler für Dateien, Sätze und Tokens\n",
    "file_count = 0\n",
    "sentence_count = 0\n",
    "token_count = 0\n",
    "\n",
    "# Durch den Ordner iterieren\n",
    "for filename in os.listdir(folder_path):\n",
    "    if filename.endswith(\".txt\"):  # Nur Textdateien berücksichtigen\n",
    "        file_count += 1\n",
    "        file_path = os.path.join(folder_path, filename)\n",
    "        \n",
    "        with open(file_path, \"r\", encoding=\"utf-8\") as file:\n",
    "            text = file.read()\n",
    "            sentences = sent_tokenize(text)\n",
    "            tokens = word_tokenize(text)\n",
    "            \n",
    "            sentence_count += len(sentences)\n",
    "            token_count += len(tokens)\n",
    "            \n",
    "            # Optional: Ausgabe der Sätze und Tokens für jede Datei\n",
    "            print(f\"Datei: {filename}\")\n",
    "            print(\"Anzahl Sätze:\", len(sentences))\n",
    "            print(\"Anzahl Tokens:\", len(tokens))\n",
    "            print()\n",
    "            \n",
    "# Gesamtergebnisse ausgeben\n",
    "print(\"Anzahl Dateien:\", file_count)\n",
    "print(\"Gesamtanzahl Sätze:\", sentence_count)\n",
    "print(\"Gesamtanzahl Tokens:\", token_count)"
   ]
  }
 ],
 "metadata": {
  "kernelspec": {
   "display_name": "base",
   "language": "python",
   "name": "python3"
  },
  "language_info": {
   "codemirror_mode": {
    "name": "ipython",
    "version": 3
   },
   "file_extension": ".py",
   "mimetype": "text/x-python",
   "name": "python",
   "nbconvert_exporter": "python",
   "pygments_lexer": "ipython3",
   "version": "3.9.12"
  },
  "orig_nbformat": 4
 },
 "nbformat": 4,
 "nbformat_minor": 2
}
