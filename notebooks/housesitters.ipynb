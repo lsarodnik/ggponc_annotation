{
 "cells": [
  {
   "cell_type": "code",
   "execution_count": 1,
   "metadata": {},
   "outputs": [
    {
     "name": "stdout",
     "output_type": "stream",
     "text": [
      "Requirement already satisfied: selenium in /opt/homebrew/anaconda3/lib/python3.9/site-packages (4.4.3)\n",
      "Requirement already satisfied: certifi>=2021.10.8 in /opt/homebrew/anaconda3/lib/python3.9/site-packages (from selenium) (2021.10.8)\n",
      "Requirement already satisfied: trio~=0.17 in /opt/homebrew/anaconda3/lib/python3.9/site-packages (from selenium) (0.21.0)\n",
      "Requirement already satisfied: trio-websocket~=0.9 in /opt/homebrew/anaconda3/lib/python3.9/site-packages (from selenium) (0.9.2)\n",
      "Requirement already satisfied: urllib3[socks]~=1.26 in /opt/homebrew/anaconda3/lib/python3.9/site-packages (from selenium) (1.26.9)\n",
      "Requirement already satisfied: sortedcontainers in /opt/homebrew/anaconda3/lib/python3.9/site-packages (from trio~=0.17->selenium) (2.4.0)\n",
      "Requirement already satisfied: outcome in /opt/homebrew/anaconda3/lib/python3.9/site-packages (from trio~=0.17->selenium) (1.2.0)\n",
      "Requirement already satisfied: sniffio in /opt/homebrew/anaconda3/lib/python3.9/site-packages (from trio~=0.17->selenium) (1.2.0)\n",
      "Requirement already satisfied: idna in /opt/homebrew/anaconda3/lib/python3.9/site-packages (from trio~=0.17->selenium) (3.3)\n",
      "Requirement already satisfied: attrs>=19.2.0 in /opt/homebrew/anaconda3/lib/python3.9/site-packages (from trio~=0.17->selenium) (21.2.0)\n",
      "Requirement already satisfied: async-generator>=1.9 in /opt/homebrew/anaconda3/lib/python3.9/site-packages (from trio~=0.17->selenium) (1.10)\n",
      "Requirement already satisfied: wsproto>=0.14 in /opt/homebrew/anaconda3/lib/python3.9/site-packages (from trio-websocket~=0.9->selenium) (1.2.0)\n",
      "Requirement already satisfied: PySocks!=1.5.7,<2.0,>=1.5.6 in /opt/homebrew/anaconda3/lib/python3.9/site-packages (from urllib3[socks]~=1.26->selenium) (1.7.1)\n",
      "Requirement already satisfied: h11<1,>=0.9.0 in /opt/homebrew/anaconda3/lib/python3.9/site-packages (from wsproto>=0.14->trio-websocket~=0.9->selenium) (0.13.0)\n",
      "\n",
      "\u001b[1m[\u001b[0m\u001b[34;49mnotice\u001b[0m\u001b[1;39;49m]\u001b[0m\u001b[39;49m A new release of pip is available: \u001b[0m\u001b[31;49m23.0.1\u001b[0m\u001b[39;49m -> \u001b[0m\u001b[32;49m23.1.2\u001b[0m\n",
      "\u001b[1m[\u001b[0m\u001b[34;49mnotice\u001b[0m\u001b[1;39;49m]\u001b[0m\u001b[39;49m To update, run: \u001b[0m\u001b[32;49mpip install --upgrade pip\u001b[0m\n"
     ]
    }
   ],
   "source": [
    "!pip3 install selenium\n"
   ]
  },
  {
   "cell_type": "code",
   "execution_count": 2,
   "metadata": {},
   "outputs": [],
   "source": [
    "from selenium import webdriver\n",
    "from selenium.webdriver.common.keys import Keys"
   ]
  },
  {
   "cell_type": "code",
   "execution_count": 50,
   "metadata": {},
   "outputs": [
    {
     "name": "stderr",
     "output_type": "stream",
     "text": [
      "/var/folders/xp/y_hvynz137n3x936jw354jfh0000gp/T/ipykernel_68777/1299670146.py:2: DeprecationWarning: executable_path has been deprecated, please pass in a Service object\n",
      "  driver = webdriver.Chrome('/Users/leon.sarodnik/Downloads/chromedriver_mac_arm64 (2)/chromedriver')\n"
     ]
    }
   ],
   "source": [
    "#https://stackoverflow.com/questions/60362018/macos-catalinav-10-15-3-error-chromedriver-cannot-be-opened-because-the-de\n",
    "driver = webdriver.Chrome('/Users/leon.sarodnik/Downloads/chromedriver_mac_arm64 (2)/chromedriver')\n",
    "\n"
   ]
  },
  {
   "cell_type": "code",
   "execution_count": 51,
   "metadata": {},
   "outputs": [],
   "source": [
    "driver.get('https://www.trustedhousesitters.com/accounts/profile/login/')\n"
   ]
  },
  {
   "cell_type": "code",
   "execution_count": 53,
   "metadata": {},
   "outputs": [],
   "source": [
    "#login\n",
    "\n",
    "username_field_xpath = '//*[@id=\"app\"]/main/div[2]/div/div/div[2]/div/div/div/form/input[1]'\n",
    "password_field_xpath = '//*[@id=\"app\"]/main/div[2]/div/div/div[2]/div/div/div/form/input[2]'\n",
    "\n",
    "\n",
    "username_field = driver.find_element(\"xpath\",username_field_xpath)\n",
    "password_field = driver.find_element(\"xpath\",password_field_xpath)\n",
    "login_button = driver.find_element(\"xpath\",'//*[@id=\"app\"]/main/div[2]/div/div/div[2]/div/div/div/form/button')\n",
    "\n",
    "username_field.send_keys('larissamroehrig@gmail.com')\n",
    "password_field.send_keys(\"7-VC#?+'Mh|y.4b'L!P%\")\n",
    "\n",
    "login_button.click()\n"
   ]
  },
  {
   "cell_type": "code",
   "execution_count": 52,
   "metadata": {},
   "outputs": [
    {
     "ename": "NoSuchElementException",
     "evalue": "Message: no such element: Unable to locate element: {\"method\":\"xpath\",\"selector\":\"//*[@id=\"app\"]/main/div[2]/div/div/div/div[2]/button[1]\"}\n  (Session info: chrome=110.0.5481.100)\nStacktrace:\n0   chromedriver                        0x0000000100e511c0 chromedriver + 4248000\n1   chromedriver                        0x0000000100dd1dc0 chromedriver + 3726784\n2   chromedriver                        0x0000000100a86ec4 chromedriver + 274116\n3   chromedriver                        0x0000000100ac2be4 chromedriver + 519140\n4   chromedriver                        0x0000000100afe054 chromedriver + 761940\n5   chromedriver                        0x0000000100ab5200 chromedriver + 463360\n6   chromedriver                        0x0000000100ab6318 chromedriver + 467736\n7   chromedriver                        0x0000000100e1f060 chromedriver + 4042848\n8   chromedriver                        0x0000000100e238a4 chromedriver + 4061348\n9   chromedriver                        0x0000000100e2b3d0 chromedriver + 4092880\n10  chromedriver                        0x0000000100e246e4 chromedriver + 4064996\n11  chromedriver                        0x0000000100dfa0fc chromedriver + 3891452\n12  chromedriver                        0x0000000100e44a64 chromedriver + 4196964\n13  chromedriver                        0x0000000100e44bb8 chromedriver + 4197304\n14  chromedriver                        0x0000000100e58650 chromedriver + 4277840\n15  libsystem_pthread.dylib             0x000000018f26bfa8 _pthread_start + 148\n16  libsystem_pthread.dylib             0x000000018f266da0 thread_start + 8\n",
     "output_type": "error",
     "traceback": [
      "\u001b[0;31m---------------------------------------------------------------------------\u001b[0m",
      "\u001b[0;31mNoSuchElementException\u001b[0m                    Traceback (most recent call last)",
      "\u001b[1;32m/Users/leon.sarodnik/Documents/GitHub/ggponc_annotation/notebooks/housesitters.ipynb Cell 6\u001b[0m in \u001b[0;36m<cell line: 7>\u001b[0;34m()\u001b[0m\n\u001b[1;32m      <a href='vscode-notebook-cell:/Users/leon.sarodnik/Documents/GitHub/ggponc_annotation/notebooks/housesitters.ipynb#X11sZmlsZQ%3D%3D?line=1'>2</a>\u001b[0m driver\u001b[39m.\u001b[39mget(\u001b[39m'\u001b[39m\u001b[39mhttps://www.trustedhousesitters.com/house-and-pet-sitting-assignments/?q=eyJmaWx0ZXJzIjp7ImFjdGl2ZU1lbWJlcnNoaXAiOnRydWUsImFzc2lnbm1lbnRzIjp7ImRhdGVGcm9tIjoiMjAyMy0wNi0xMiIsImRhdGVUbyI6IjIwMjMtMDktMzAiLCJyZXZpZXdpbmciOmZhbHNlLCJjb25maXJtZWQiOmZhbHNlLCJkdXJhdGlvbkluRGF5cyI6eyJtaW5pbXVtIjoxNH19LCJnZW9IaWVyYXJjaHkiOnsiY291bnRyeVNsdWciOiJ1bml0ZWQtc3RhdGVzIn19LCJmYWNldHMiOltdLCJzb3J0IjpbeyJwdWJsaXNoZWQiOiJkZXNjIn1dLCJwYWdlIjoxLCJyZXN1bHRzUGVyUGFnZSI6MTIsImRlYnVnIjpmYWxzZX0=&searchMethod=saveSearch \u001b[39m\u001b[39m'\u001b[39m)\n\u001b[1;32m      <a href='vscode-notebook-cell:/Users/leon.sarodnik/Documents/GitHub/ggponc_annotation/notebooks/housesitters.ipynb#X11sZmlsZQ%3D%3D?line=4'>5</a>\u001b[0m sort_by_button_xpath \u001b[39m=\u001b[39m \u001b[39m'\u001b[39m\u001b[39m//*[@id=\u001b[39m\u001b[39m\"\u001b[39m\u001b[39mapp\u001b[39m\u001b[39m\"\u001b[39m\u001b[39m]/main/div[2]/div/div/div/div[2]/button[1]\u001b[39m\u001b[39m'\u001b[39m\n\u001b[0;32m----> <a href='vscode-notebook-cell:/Users/leon.sarodnik/Documents/GitHub/ggponc_annotation/notebooks/housesitters.ipynb#X11sZmlsZQ%3D%3D?line=6'>7</a>\u001b[0m sort_by_button \u001b[39m=\u001b[39m driver\u001b[39m.\u001b[39;49mfind_element(\u001b[39m\"\u001b[39;49m\u001b[39mxpath\u001b[39;49m\u001b[39m\"\u001b[39;49m,sort_by_button_xpath)\n\u001b[1;32m      <a href='vscode-notebook-cell:/Users/leon.sarodnik/Documents/GitHub/ggponc_annotation/notebooks/housesitters.ipynb#X11sZmlsZQ%3D%3D?line=7'>8</a>\u001b[0m sort_by_button\u001b[39m.\u001b[39mclick()\n\u001b[1;32m     <a href='vscode-notebook-cell:/Users/leon.sarodnik/Documents/GitHub/ggponc_annotation/notebooks/housesitters.ipynb#X11sZmlsZQ%3D%3D?line=9'>10</a>\u001b[0m sort_by_button_newest_option_xpath \u001b[39m=\u001b[39m \u001b[39m'\u001b[39m\u001b[39m/html/body/div[5]/div/div[4]/div[1]/div/div/fieldset/div[2]\u001b[39m\u001b[39m'\u001b[39m\n",
      "File \u001b[0;32m/opt/homebrew/anaconda3/lib/python3.9/site-packages/selenium/webdriver/remote/webdriver.py:855\u001b[0m, in \u001b[0;36mWebDriver.find_element\u001b[0;34m(self, by, value)\u001b[0m\n\u001b[1;32m    852\u001b[0m     by \u001b[39m=\u001b[39m By\u001b[39m.\u001b[39mCSS_SELECTOR\n\u001b[1;32m    853\u001b[0m     value \u001b[39m=\u001b[39m \u001b[39m'\u001b[39m\u001b[39m[name=\u001b[39m\u001b[39m\"\u001b[39m\u001b[39m%s\u001b[39;00m\u001b[39m\"\u001b[39m\u001b[39m]\u001b[39m\u001b[39m'\u001b[39m \u001b[39m%\u001b[39m value\n\u001b[0;32m--> 855\u001b[0m \u001b[39mreturn\u001b[39;00m \u001b[39mself\u001b[39;49m\u001b[39m.\u001b[39;49mexecute(Command\u001b[39m.\u001b[39;49mFIND_ELEMENT, {\n\u001b[1;32m    856\u001b[0m     \u001b[39m'\u001b[39;49m\u001b[39musing\u001b[39;49m\u001b[39m'\u001b[39;49m: by,\n\u001b[1;32m    857\u001b[0m     \u001b[39m'\u001b[39;49m\u001b[39mvalue\u001b[39;49m\u001b[39m'\u001b[39;49m: value})[\u001b[39m'\u001b[39m\u001b[39mvalue\u001b[39m\u001b[39m'\u001b[39m]\n",
      "File \u001b[0;32m/opt/homebrew/anaconda3/lib/python3.9/site-packages/selenium/webdriver/remote/webdriver.py:428\u001b[0m, in \u001b[0;36mWebDriver.execute\u001b[0;34m(self, driver_command, params)\u001b[0m\n\u001b[1;32m    426\u001b[0m response \u001b[39m=\u001b[39m \u001b[39mself\u001b[39m\u001b[39m.\u001b[39mcommand_executor\u001b[39m.\u001b[39mexecute(driver_command, params)\n\u001b[1;32m    427\u001b[0m \u001b[39mif\u001b[39;00m response:\n\u001b[0;32m--> 428\u001b[0m     \u001b[39mself\u001b[39;49m\u001b[39m.\u001b[39;49merror_handler\u001b[39m.\u001b[39;49mcheck_response(response)\n\u001b[1;32m    429\u001b[0m     response[\u001b[39m'\u001b[39m\u001b[39mvalue\u001b[39m\u001b[39m'\u001b[39m] \u001b[39m=\u001b[39m \u001b[39mself\u001b[39m\u001b[39m.\u001b[39m_unwrap_value(\n\u001b[1;32m    430\u001b[0m         response\u001b[39m.\u001b[39mget(\u001b[39m'\u001b[39m\u001b[39mvalue\u001b[39m\u001b[39m'\u001b[39m, \u001b[39mNone\u001b[39;00m))\n\u001b[1;32m    431\u001b[0m     \u001b[39mreturn\u001b[39;00m response\n",
      "File \u001b[0;32m/opt/homebrew/anaconda3/lib/python3.9/site-packages/selenium/webdriver/remote/errorhandler.py:243\u001b[0m, in \u001b[0;36mErrorHandler.check_response\u001b[0;34m(self, response)\u001b[0m\n\u001b[1;32m    241\u001b[0m         alert_text \u001b[39m=\u001b[39m value[\u001b[39m'\u001b[39m\u001b[39malert\u001b[39m\u001b[39m'\u001b[39m]\u001b[39m.\u001b[39mget(\u001b[39m'\u001b[39m\u001b[39mtext\u001b[39m\u001b[39m'\u001b[39m)\n\u001b[1;32m    242\u001b[0m     \u001b[39mraise\u001b[39;00m exception_class(message, screen, stacktrace, alert_text)  \u001b[39m# type: ignore[call-arg]  # mypy is not smart enough here\u001b[39;00m\n\u001b[0;32m--> 243\u001b[0m \u001b[39mraise\u001b[39;00m exception_class(message, screen, stacktrace)\n",
      "\u001b[0;31mNoSuchElementException\u001b[0m: Message: no such element: Unable to locate element: {\"method\":\"xpath\",\"selector\":\"//*[@id=\"app\"]/main/div[2]/div/div/div/div[2]/button[1]\"}\n  (Session info: chrome=110.0.5481.100)\nStacktrace:\n0   chromedriver                        0x0000000100e511c0 chromedriver + 4248000\n1   chromedriver                        0x0000000100dd1dc0 chromedriver + 3726784\n2   chromedriver                        0x0000000100a86ec4 chromedriver + 274116\n3   chromedriver                        0x0000000100ac2be4 chromedriver + 519140\n4   chromedriver                        0x0000000100afe054 chromedriver + 761940\n5   chromedriver                        0x0000000100ab5200 chromedriver + 463360\n6   chromedriver                        0x0000000100ab6318 chromedriver + 467736\n7   chromedriver                        0x0000000100e1f060 chromedriver + 4042848\n8   chromedriver                        0x0000000100e238a4 chromedriver + 4061348\n9   chromedriver                        0x0000000100e2b3d0 chromedriver + 4092880\n10  chromedriver                        0x0000000100e246e4 chromedriver + 4064996\n11  chromedriver                        0x0000000100dfa0fc chromedriver + 3891452\n12  chromedriver                        0x0000000100e44a64 chromedriver + 4196964\n13  chromedriver                        0x0000000100e44bb8 chromedriver + 4197304\n14  chromedriver                        0x0000000100e58650 chromedriver + 4277840\n15  libsystem_pthread.dylib             0x000000018f26bfa8 _pthread_start + 148\n16  libsystem_pthread.dylib             0x000000018f266da0 thread_start + 8\n"
     ]
    }
   ],
   "source": [
    "#saved searches USA\n",
    "driver.get('https://www.trustedhousesitters.com/house-and-pet-sitting-assignments/?q=eyJmaWx0ZXJzIjp7ImFjdGl2ZU1lbWJlcnNoaXAiOnRydWUsImFzc2lnbm1lbnRzIjp7ImRhdGVGcm9tIjoiMjAyMy0wNi0xMiIsImRhdGVUbyI6IjIwMjMtMDktMzAiLCJyZXZpZXdpbmciOmZhbHNlLCJjb25maXJtZWQiOmZhbHNlLCJkdXJhdGlvbkluRGF5cyI6eyJtaW5pbXVtIjoxNH19LCJnZW9IaWVyYXJjaHkiOnsiY291bnRyeVNsdWciOiJ1bml0ZWQtc3RhdGVzIn19LCJmYWNldHMiOltdLCJzb3J0IjpbeyJwdWJsaXNoZWQiOiJkZXNjIn1dLCJwYWdlIjoxLCJyZXN1bHRzUGVyUGFnZSI6MTIsImRlYnVnIjpmYWxzZX0=&searchMethod=saveSearch ')\n",
    "\n",
    "\n",
    "sort_by_button_xpath = '//*[@id=\"app\"]/main/div[2]/div/div/div/div[2]/button[1]'\n",
    "\n",
    "sort_by_button = driver.find_element(\"xpath\",sort_by_button_xpath)\n",
    "sort_by_button.click()\n",
    "\n",
    "sort_by_button_newest_option_xpath = '/html/body/div[5]/div/div[4]/div[1]/div/div/fieldset/div[2]'\n",
    "sort_by_button_newest_option = driver.find_element(\"xpath\",sort_by_button_newest_option_xpath)\n",
    "sort_by_button_newest_option.click()\n",
    "\n",
    "sort_by_button_apply_xpath = '/html/body/div[5]/div/div[4]/div[2]/button[1]'\n",
    "sort_by_button_apply = driver.find_element(\"xpath\",sort_by_button_apply_xpath)\n",
    "sort_by_button_apply.click()"
   ]
  },
  {
   "cell_type": "code",
   "execution_count": 36,
   "metadata": {},
   "outputs": [
    {
     "ename": "ElementClickInterceptedException",
     "evalue": "Message: element click intercepted: Element <a class=\"sc-g5xyr8-1 iAwRYH sc-1ldq8y2-7 dIrttv active\" href=\"/house-and-pet-sitting-assignments/\" aria-current=\"page\">...</a> is not clickable at point (386, 31). Other element would receive the click: <div class=\"sc-n2ytv3-2 hBkgsM\">...</div>\n  (Session info: chrome=110.0.5481.100)\nStacktrace:\n0   chromedriver                        0x00000001050891c0 chromedriver + 4248000\n1   chromedriver                        0x0000000105009dc0 chromedriver + 3726784\n2   chromedriver                        0x0000000104cbeec4 chromedriver + 274116\n3   chromedriver                        0x0000000104d02530 chromedriver + 550192\n4   chromedriver                        0x0000000104cfff28 chromedriver + 540456\n5   chromedriver                        0x0000000104cfd6c4 chromedriver + 530116\n6   chromedriver                        0x0000000104cfc5b8 chromedriver + 525752\n7   chromedriver                        0x0000000104cef3e0 chromedriver + 472032\n8   chromedriver                        0x0000000104ceebbc chromedriver + 469948\n9   chromedriver                        0x0000000104d36054 chromedriver + 761940\n10  chromedriver                        0x0000000104ced200 chromedriver + 463360\n11  chromedriver                        0x0000000104cee318 chromedriver + 467736\n12  chromedriver                        0x0000000105057060 chromedriver + 4042848\n13  chromedriver                        0x000000010505b8a4 chromedriver + 4061348\n14  chromedriver                        0x00000001050633d0 chromedriver + 4092880\n15  chromedriver                        0x000000010505c6e4 chromedriver + 4064996\n16  chromedriver                        0x00000001050320fc chromedriver + 3891452\n17  chromedriver                        0x000000010507ca64 chromedriver + 4196964\n18  chromedriver                        0x000000010507cbb8 chromedriver + 4197304\n19  chromedriver                        0x0000000105090650 chromedriver + 4277840\n20  libsystem_pthread.dylib             0x000000018f26bfa8 _pthread_start + 148\n21  libsystem_pthread.dylib             0x000000018f266da0 thread_start + 8\n",
     "output_type": "error",
     "traceback": [
      "\u001b[0;31m---------------------------------------------------------------------------\u001b[0m",
      "\u001b[0;31mElementClickInterceptedException\u001b[0m          Traceback (most recent call last)",
      "\u001b[1;32m/Users/leon.sarodnik/Documents/GitHub/ggponc_annotation/notebooks/housesitters.ipynb Cell 6\u001b[0m in \u001b[0;36m<cell line: 8>\u001b[0;34m()\u001b[0m\n\u001b[1;32m      <a href='vscode-notebook-cell:/Users/leon.sarodnik/Documents/GitHub/ggponc_annotation/notebooks/housesitters.ipynb#W5sZmlsZQ%3D%3D?line=4'>5</a>\u001b[0m find_housesits_button_xpath \u001b[39m=\u001b[39m \u001b[39m'\u001b[39m\u001b[39m//*[@id=\u001b[39m\u001b[39m\"\u001b[39m\u001b[39mapp\u001b[39m\u001b[39m\"\u001b[39m\u001b[39m]/div[1]/nav/div/div[1]/a[3]\u001b[39m\u001b[39m'\u001b[39m\n\u001b[1;32m      <a href='vscode-notebook-cell:/Users/leon.sarodnik/Documents/GitHub/ggponc_annotation/notebooks/housesitters.ipynb#W5sZmlsZQ%3D%3D?line=6'>7</a>\u001b[0m find_housesits_button \u001b[39m=\u001b[39m driver\u001b[39m.\u001b[39mfind_element(\u001b[39m\"\u001b[39m\u001b[39mxpath\u001b[39m\u001b[39m\"\u001b[39m,find_housesits_button_xpath)\n\u001b[0;32m----> <a href='vscode-notebook-cell:/Users/leon.sarodnik/Documents/GitHub/ggponc_annotation/notebooks/housesitters.ipynb#W5sZmlsZQ%3D%3D?line=7'>8</a>\u001b[0m find_housesits_button\u001b[39m.\u001b[39;49mclick()\n\u001b[1;32m     <a href='vscode-notebook-cell:/Users/leon.sarodnik/Documents/GitHub/ggponc_annotation/notebooks/housesitters.ipynb#W5sZmlsZQ%3D%3D?line=9'>10</a>\u001b[0m nasty_info_banner_got_it_button_xpath \u001b[39m=\u001b[39m \u001b[39m'\u001b[39m\u001b[39m//*[@id=\u001b[39m\u001b[39m\"\u001b[39m\u001b[39mapp\u001b[39m\u001b[39m\"\u001b[39m\u001b[39m]/main/div[3]/div[3]/div/div/div/div[1]/div/div[1]/span/div/div[2]/div/div[3]/div[2]/button\u001b[39m\u001b[39m'\u001b[39m\n\u001b[1;32m     <a href='vscode-notebook-cell:/Users/leon.sarodnik/Documents/GitHub/ggponc_annotation/notebooks/housesitters.ipynb#W5sZmlsZQ%3D%3D?line=10'>11</a>\u001b[0m expand_saved_searches_button_xpath \u001b[39m=\u001b[39m \u001b[39m'\u001b[39m\u001b[39m//*[@id=\u001b[39m\u001b[39m\"\u001b[39m\u001b[39mapp\u001b[39m\u001b[39m\"\u001b[39m\u001b[39m]/main/div[3]/div[2]/div/div/div/button\u001b[39m\u001b[39m'\u001b[39m\n",
      "File \u001b[0;32m/opt/homebrew/anaconda3/lib/python3.9/site-packages/selenium/webdriver/remote/webelement.py:88\u001b[0m, in \u001b[0;36mWebElement.click\u001b[0;34m(self)\u001b[0m\n\u001b[1;32m     86\u001b[0m \u001b[39mdef\u001b[39;00m \u001b[39mclick\u001b[39m(\u001b[39mself\u001b[39m) \u001b[39m-\u001b[39m\u001b[39m>\u001b[39m \u001b[39mNone\u001b[39;00m:\n\u001b[1;32m     87\u001b[0m     \u001b[39m\"\"\"Clicks the element.\"\"\"\u001b[39;00m\n\u001b[0;32m---> 88\u001b[0m     \u001b[39mself\u001b[39;49m\u001b[39m.\u001b[39;49m_execute(Command\u001b[39m.\u001b[39;49mCLICK_ELEMENT)\n",
      "File \u001b[0;32m/opt/homebrew/anaconda3/lib/python3.9/site-packages/selenium/webdriver/remote/webelement.py:396\u001b[0m, in \u001b[0;36mWebElement._execute\u001b[0;34m(self, command, params)\u001b[0m\n\u001b[1;32m    394\u001b[0m     params \u001b[39m=\u001b[39m {}\n\u001b[1;32m    395\u001b[0m params[\u001b[39m'\u001b[39m\u001b[39mid\u001b[39m\u001b[39m'\u001b[39m] \u001b[39m=\u001b[39m \u001b[39mself\u001b[39m\u001b[39m.\u001b[39m_id\n\u001b[0;32m--> 396\u001b[0m \u001b[39mreturn\u001b[39;00m \u001b[39mself\u001b[39;49m\u001b[39m.\u001b[39;49m_parent\u001b[39m.\u001b[39;49mexecute(command, params)\n",
      "File \u001b[0;32m/opt/homebrew/anaconda3/lib/python3.9/site-packages/selenium/webdriver/remote/webdriver.py:428\u001b[0m, in \u001b[0;36mWebDriver.execute\u001b[0;34m(self, driver_command, params)\u001b[0m\n\u001b[1;32m    426\u001b[0m response \u001b[39m=\u001b[39m \u001b[39mself\u001b[39m\u001b[39m.\u001b[39mcommand_executor\u001b[39m.\u001b[39mexecute(driver_command, params)\n\u001b[1;32m    427\u001b[0m \u001b[39mif\u001b[39;00m response:\n\u001b[0;32m--> 428\u001b[0m     \u001b[39mself\u001b[39;49m\u001b[39m.\u001b[39;49merror_handler\u001b[39m.\u001b[39;49mcheck_response(response)\n\u001b[1;32m    429\u001b[0m     response[\u001b[39m'\u001b[39m\u001b[39mvalue\u001b[39m\u001b[39m'\u001b[39m] \u001b[39m=\u001b[39m \u001b[39mself\u001b[39m\u001b[39m.\u001b[39m_unwrap_value(\n\u001b[1;32m    430\u001b[0m         response\u001b[39m.\u001b[39mget(\u001b[39m'\u001b[39m\u001b[39mvalue\u001b[39m\u001b[39m'\u001b[39m, \u001b[39mNone\u001b[39;00m))\n\u001b[1;32m    431\u001b[0m     \u001b[39mreturn\u001b[39;00m response\n",
      "File \u001b[0;32m/opt/homebrew/anaconda3/lib/python3.9/site-packages/selenium/webdriver/remote/errorhandler.py:243\u001b[0m, in \u001b[0;36mErrorHandler.check_response\u001b[0;34m(self, response)\u001b[0m\n\u001b[1;32m    241\u001b[0m         alert_text \u001b[39m=\u001b[39m value[\u001b[39m'\u001b[39m\u001b[39malert\u001b[39m\u001b[39m'\u001b[39m]\u001b[39m.\u001b[39mget(\u001b[39m'\u001b[39m\u001b[39mtext\u001b[39m\u001b[39m'\u001b[39m)\n\u001b[1;32m    242\u001b[0m     \u001b[39mraise\u001b[39;00m exception_class(message, screen, stacktrace, alert_text)  \u001b[39m# type: ignore[call-arg]  # mypy is not smart enough here\u001b[39;00m\n\u001b[0;32m--> 243\u001b[0m \u001b[39mraise\u001b[39;00m exception_class(message, screen, stacktrace)\n",
      "\u001b[0;31mElementClickInterceptedException\u001b[0m: Message: element click intercepted: Element <a class=\"sc-g5xyr8-1 iAwRYH sc-1ldq8y2-7 dIrttv active\" href=\"/house-and-pet-sitting-assignments/\" aria-current=\"page\">...</a> is not clickable at point (386, 31). Other element would receive the click: <div class=\"sc-n2ytv3-2 hBkgsM\">...</div>\n  (Session info: chrome=110.0.5481.100)\nStacktrace:\n0   chromedriver                        0x00000001050891c0 chromedriver + 4248000\n1   chromedriver                        0x0000000105009dc0 chromedriver + 3726784\n2   chromedriver                        0x0000000104cbeec4 chromedriver + 274116\n3   chromedriver                        0x0000000104d02530 chromedriver + 550192\n4   chromedriver                        0x0000000104cfff28 chromedriver + 540456\n5   chromedriver                        0x0000000104cfd6c4 chromedriver + 530116\n6   chromedriver                        0x0000000104cfc5b8 chromedriver + 525752\n7   chromedriver                        0x0000000104cef3e0 chromedriver + 472032\n8   chromedriver                        0x0000000104ceebbc chromedriver + 469948\n9   chromedriver                        0x0000000104d36054 chromedriver + 761940\n10  chromedriver                        0x0000000104ced200 chromedriver + 463360\n11  chromedriver                        0x0000000104cee318 chromedriver + 467736\n12  chromedriver                        0x0000000105057060 chromedriver + 4042848\n13  chromedriver                        0x000000010505b8a4 chromedriver + 4061348\n14  chromedriver                        0x00000001050633d0 chromedriver + 4092880\n15  chromedriver                        0x000000010505c6e4 chromedriver + 4064996\n16  chromedriver                        0x00000001050320fc chromedriver + 3891452\n17  chromedriver                        0x000000010507ca64 chromedriver + 4196964\n18  chromedriver                        0x000000010507cbb8 chromedriver + 4197304\n19  chromedriver                        0x0000000105090650 chromedriver + 4277840\n20  libsystem_pthread.dylib             0x000000018f26bfa8 _pthread_start + 148\n21  libsystem_pthread.dylib             0x000000018f266da0 thread_start + 8\n"
     ]
    }
   ],
   "source": [
    "from selenium.webdriver.common.by import By\n",
    "from selenium.webdriver.support.ui import WebDriverWait\n",
    "from selenium.webdriver.support import expected_conditions as EC\n",
    "\n",
    "find_housesits_button_xpath = '//*[@id=\"app\"]/div[1]/nav/div/div[1]/a[3]'\n",
    "\n",
    "find_housesits_button = driver.find_element(\"xpath\",find_housesits_button_xpath)\n",
    "find_housesits_button.click()"
   ]
  },
  {
   "cell_type": "code",
   "execution_count": 37,
   "metadata": {},
   "outputs": [],
   "source": [
    "\n",
    "nasty_info_banner_got_it_button_xpath = '//*[@id=\"app\"]/main/div[3]/div[3]/div/div/div/div[1]/div/div[1]/span/div/div[2]/div/div[3]/div[2]/button'\n",
    "expand_saved_searches_button_xpath = '//*[@id=\"app\"]/main/div[3]/div[2]/div/div/div/button'\n",
    "\n",
    "\n",
    "nasty_info_banner_got_it_button = driver.find_element(\"xpath\",nasty_info_banner_got_it_button_xpath)\n",
    "\n",
    "nasty_info_banner_got_it_button.click()\n",
    "\n",
    "button = WebDriverWait(driver, 2).until(EC.element_to_be_clickable((By.XPATH, expand_saved_searches_button_xpath)))\n",
    "\n",
    "expand_saved_searches_button = driver.find_element(\"xpath\",expand_saved_searches_button_xpath)\n",
    "\n",
    "\n",
    "\n",
    "expand_saved_searches_button.click()"
   ]
  },
  {
   "cell_type": "code",
   "execution_count": 79,
   "metadata": {},
   "outputs": [
    {
     "name": "stdout",
     "output_type": "stream",
     "text": [
      "Port Hawkesbury, NS, Canada\n",
      "Elsa\n",
      "Isis\n",
      "['dog', 'cat']\n",
      "['1', '1']\n",
      "Madeleine\n"
     ]
    }
   ],
   "source": [
    "#extract name and pets\n",
    "\n",
    "host_name_xpath = '//*[@id=\"app\"]/main/div/article/div[2]/div/div[3]/div[1]/div/div[2]/div/div/div[1]'\n",
    "\n",
    "location_name_xpath = '//*[@id=\"app\"]/main/div/article/div[2]/div/div[1]/div'\n",
    "\n",
    "host_name = driver.find_element(\"xpath\",host_name_xpath)\n",
    "\n",
    "location_name = driver.find_element(\"xpath\",location_name_xpath)\n",
    "\n",
    "print(location_name.text)\n",
    "\n",
    "\n",
    "pets_selector_xpth = '//*[@id=\"app\"]/main/div/article/div[2]/div/div[4]/section[6]/div/div/div/ul'\n",
    "\n",
    "pets_counter_xapth = '//*[@id=\"app\"]/main/div/article/div[2]/div/div[1]/ul'\n",
    "\n",
    "pets_selector = driver.find_element(\"xpath\",pets_selector_xpth)\n",
    "\n",
    "pets_counter = driver.find_element(\"xpath\",pets_counter_xapth)\n",
    "\n",
    "\n",
    "\n",
    "# Find all the pet count elements\n",
    "count_elements = pets_counter.find_elements(By.CSS_SELECTOR, '[data-testid=\"Animal__count\"]')\n",
    "\n",
    "# Find all the pet kind elements\n",
    "kind_elements = pets_counter.find_elements(By.CSS_SELECTOR, '[data-testid^=\"animal-icon\"]')\n",
    "\n",
    "# Extract the pet counts and kinds\n",
    "pet_counts = [count_element.text for count_element in count_elements]\n",
    "pet_kinds = [kind_element.get_attribute('data-testid').split('-')[-1] for kind_element in kind_elements]\n",
    "\n",
    "\n",
    "# Find all the pet name elements\n",
    "pet_names = pets_selector.find_elements(By.CLASS_NAME, 'sc-1p02vaf-3')\n",
    "\n",
    "# Iterate over the subelements\n",
    "for sub_element in pet_names:\n",
    "    # Perform desired actions on each subelement\n",
    "    # For example, you can print the text of each subelement\n",
    "    print(sub_element.text)\n",
    "\n",
    "pet_names = [name_element.text for name_element in pet_names]\n",
    "\n",
    "print(pet_kinds)\n",
    "print(pet_counts)\n",
    "print(host_name.text)"
   ]
  },
  {
   "cell_type": "code",
   "execution_count": 85,
   "metadata": {},
   "outputs": [
    {
     "name": "stdout",
     "output_type": "stream",
     "text": [
      "\n",
      "Hello Madeleine,\n",
      "\n",
      "We are a small family from Berlin, Germany, bringing along our little bundle of joy, Livy, who is just five months old. Our furry family member, Ivy, is a two-year-old rescue dog who will be enjoying her time on the countryside with Leon's family and their three friendly border collies while we are away.\n",
      "\n",
      "Your dogs, Elsa, Isis, seem like absolute sweethearts! We would be thrilled to provide them with all the love and cuddles they desire while you are away.\n",
      "\n",
      "Being nature enthusiasts, we thoroughly enjoy exploring new places and embarking on exciting hikes. This upcoming trip to Port Hawkesbury, NS, Canada has us eagerly looking forward to discovering its unique charm. Sharing our parental leave in such a cozy environment with Elsa, Isis would undoubtedly be a wonderful experience. Understanding their routine, as you have described, aligns perfectly with our experiences caring for Ivy.\n",
      "\n",
      "We eagerly await your response and would be honored to be entrusted with the care of Elsa, Isis.\n",
      "\n",
      "Sending our warmest regards from Berlin,\n",
      "\n",
      "Larissa, Leon, Livy & Ivy\n",
      "\n"
     ]
    }
   ],
   "source": [
    "# Text template\n",
    "text_template = \"\"\"\n",
    "Hello {host_name},\n",
    "\n",
    "We are a small family from Berlin, Germany, bringing along our little bundle of joy, Livy, who is just five months old. Our furry family member, Ivy, is a two-year-old rescue dog who will be enjoying her time on the countryside with Leon's family and their three friendly border collies while we are away.\n",
    "\n",
    "Your dogs, {pet_names}, seem like absolute sweethearts! We would be thrilled to provide them with all the love and cuddles they desire while you are away.\n",
    "\n",
    "Being nature enthusiasts, we thoroughly enjoy exploring new places and embarking on exciting hikes. This upcoming trip to {location} has us eagerly looking forward to discovering its unique charm. Sharing our parental leave in such a cozy environment with {pet_names} would undoubtedly be a wonderful experience. Understanding their routine, as you have described, aligns perfectly with our experiences caring for Ivy.\n",
    "\n",
    "We eagerly await your response and would be honored to be entrusted with the care of {pet_names}.\n",
    "\n",
    "Sending our warmest regards from Berlin,\n",
    "\n",
    "Larissa, Leon, Livy & Ivy\n",
    "\"\"\"\n",
    "\n",
    "\n",
    "\n",
    "# Replace placeholders with extracted values\n",
    "text = text_template.replace(\"{host_name}\", host_name.text)\n",
    "text = text.replace(\"{pet_names}\", ', '.join(pet_names))\n",
    "text = text.replace(\"{location}\", location_name.text)\n",
    "\n",
    "\n",
    "print(text)"
   ]
  },
  {
   "cell_type": "markdown",
   "metadata": {},
   "source": []
  }
 ],
 "metadata": {
  "kernelspec": {
   "display_name": "base",
   "language": "python",
   "name": "python3"
  },
  "language_info": {
   "codemirror_mode": {
    "name": "ipython",
    "version": 3
   },
   "file_extension": ".py",
   "mimetype": "text/x-python",
   "name": "python",
   "nbconvert_exporter": "python",
   "pygments_lexer": "ipython3",
   "version": "3.9.12"
  },
  "orig_nbformat": 4
 },
 "nbformat": 4,
 "nbformat_minor": 2
}
